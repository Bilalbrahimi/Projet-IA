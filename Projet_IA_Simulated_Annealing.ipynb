{
  "cells": [
    {
      "cell_type": "code",
      "execution_count": 1,
      "metadata": {
        "id": "VlVXyixpf227"
      },
      "outputs": [],
      "source": [
        "import networkx as nx\n",
        "import matplotlib.pyplot as plt\n",
        "import numpy as np\n",
        "import random\n",
        "import statistics as stats\n",
        "import warnings\n",
        "import time\n",
        "import math\n",
        "import pandas as pd\n",
        "from google.colab import files"
      ]
    },
    {
      "cell_type": "code",
      "execution_count": 2,
      "metadata": {
        "id": "d9upRTpjgHtG"
      },
      "outputs": [],
      "source": [
        "def plot(digraph):\n",
        "    \n",
        "    plt.rcParams[\"figure.figsize\"] = [12, 12]\n",
        "    plt.rcParams[\"figure.autolayout\"] = True\n",
        "    #pos = nx.spectral_layout(digraph)\n",
        "    pos = nx.circular_layout(digraph)\n",
        "   \n",
        "    plt.show()\n",
        "    warnings.filterwarnings(\"ignore\")\n",
        "    nx.draw(digraph, pos,with_labels=True,node_color='blue',font_color='white')\n",
        "\n",
        "    "
      ]
    },
    {
      "cell_type": "code",
      "execution_count": 3,
      "metadata": {
        "id": "CiyW-nzJgLqG"
      },
      "outputs": [],
      "source": [
        "#different schedule functions for temperature\n",
        "def scheduleAlpha(t, temperature):\n",
        "    return temperature/(t+1)\n",
        "\n",
        "\n",
        "def schedulePower(t, temperature):\n",
        "    return (1/math.pow(2,t))*temperature\n",
        "    \n",
        "    \n",
        "def scheduleLevel(t, temperature, d = 2):\n",
        "    if (t%d == 0):\n",
        "        return temperature - 0.5*temperature\n",
        "    return temperature"
      ]
    },
    {
      "cell_type": "code",
      "execution_count": 4,
      "metadata": {
        "id": "2prjpX96gNCy"
      },
      "outputs": [],
      "source": [
        "#returns a randomly generated neighbor, by removing or adding a node to the given state\n",
        "def generatePossibleNeighbor(state, initialStateCopy):\n",
        "    stateNodes = list(state.nodes())\n",
        "    stateCopy = state.copy()\n",
        "    \n",
        "    addOrRemoveNode = np.random.uniform(0,1)\n",
        "   \n",
        "    if (addOrRemoveNode < 0.75 or initialStateCopy.number_of_nodes() == state.number_of_nodes()):\n",
        "        nodeToRemove = random.choice(stateNodes)\n",
        "        stateCopy.remove_node(nodeToRemove)\n",
        "        print(\"\\nnode removed : \", nodeToRemove)\n",
        "   \n",
        "    else:\n",
        "        initialNodes = list(initialStateCopy.nodes())\n",
        "        initialEdges = list(initialStateCopy.edges())\n",
        "        nodeToAdd = random.choice([elem for elem in initialNodes if elem not in stateNodes])\n",
        "        edgesToAdd = [elem for elem in initialEdges if (elem[0] == nodeToAdd and elem[1] in stateNodes) or (elem[1] == nodeToAdd and elem[0] in stateNodes)]\n",
        "        stateCopy.add_edges_from(edgesToAdd)\n",
        "        print(\"\\nnode added : \", nodeToAdd)\n",
        "   \n",
        "    return stateCopy"
      ]
    },
    {
      "cell_type": "code",
      "execution_count": 5,
      "metadata": {
        "id": "KLBTgk36gSC6"
      },
      "outputs": [],
      "source": [
        "# returns true if a path exists between u et v\n",
        "def existPath(matriceAdj, u, v):\n",
        "    n = len(matriceAdj) # number of nodes\n",
        "    file = []\n",
        "    visites = [False] * n\n",
        "    file.append(u)\n",
        "    while file:\n",
        "        courant = file.pop(0)\n",
        "        visites[courant] = True\n",
        "        for i in range(n):\n",
        "            if matriceAdj[courant,i] > 0 and visites[i] == False:\n",
        "                file.append(i)\n",
        "                visites[i] = True\n",
        "            elif matriceAdj[courant,i] > 0 and i == v:\n",
        "                return True \n",
        "    return False"
      ]
    },
    {
      "cell_type": "code",
      "execution_count": 6,
      "metadata": {
        "id": "PkQoBWY2g-pF"
      },
      "outputs": [],
      "source": [
        "# returns the number of nodes in at least one cycle in the given state\n",
        "def nbNodesInAtLeastOneCycle(state):\n",
        "    count = 0\n",
        "    adjacencyMatrix=nx.adjacency_matrix(state)\n",
        "    adjacencyMatrix=adjacencyMatrix.todense()\n",
        "    for node in range(0,len(adjacencyMatrix)):\n",
        "      if existPath(adjacencyMatrix, node, node):\n",
        "        count+=1\n",
        "    return count"
      ]
    },
    {
      "cell_type": "code",
      "execution_count": 7,
      "metadata": {
        "id": "CV8dOuFFhBls"
      },
      "outputs": [],
      "source": [
        "def bestStateBetween(currentState, neighborState,temperature):\n",
        "    # end because temperature = 0\n",
        "    if (temperature == 0):\n",
        "      return currentState\n",
        "    # normal case\n",
        "    delta_E = nbNodesInAtLeastOneCycle(neighborState) - nbNodesInAtLeastOneCycle(currentState)\n",
        "    print(\"deltaE :\", delta_E)\n",
        "    if (delta_E < 0):\n",
        "        return neighborState\n",
        "    elif (delta_E == 0):\n",
        "        if (neighborState.number_of_nodes() > currentState.number_of_nodes()):\n",
        "            return neighborState\n",
        "        else:\n",
        "            return currentState\n",
        "    else:\n",
        "        proba = math.exp(-delta_E/temperature)\n",
        "        trial = np.random.uniform(0,1)\n",
        "        print (\"temperature :\", temperature, \"/ -deltaE :\", -delta_E, \"/ proba :\", proba, \"/trial :\", trial)\n",
        "        if (trial < proba):\n",
        "            return neighborState\n",
        "        else:\n",
        "            return currentState"
      ]
    },
    {
      "cell_type": "code",
      "execution_count": 8,
      "metadata": {
        "id": "YEc2vIAjhGBy"
      },
      "outputs": [],
      "source": [
        "def simulatedAnnealing(nbNodes, probasErdosRenyi, plotResults, scheduleNb = 1):\n",
        "    startTime = time.time()\n",
        "\n",
        "    nbNodes = nbNodes\n",
        "    probaErdosRenyi = probasErdosRenyi\n",
        "    initialState = nx.generators.random_graphs.erdos_renyi_graph(nbNodes,probaErdosRenyi, directed= True)\n",
        "    initialStateCopy = initialState.copy()\n",
        "\n",
        "\n",
        "\n",
        "    print(\"\\n\\nWe start with this initial graph : \" , list(initialStateCopy.edges()))\n",
        "\n",
        "\n",
        "    # simulated annealing algorithm\n",
        "    temperature = initialStateCopy.number_of_nodes()*10000\n",
        "    currentState = initialState\n",
        "    t = 1\n",
        "    while(temperature > 0 and nbNodesInAtLeastOneCycle(currentState) > 0):\n",
        "        print(\"temperature: \",temperature)\n",
        "        if (scheduleNb == 1):\n",
        "          temperature = scheduleAlpha(t,temperature) \n",
        "        elif (scheduleNb == 2):\n",
        "          temperature = scheduleLevel(t,temperature,2)\n",
        "        elif (scheduleNb == 3):\n",
        "          temperature = schedulePower(t,temperature) \n",
        "        neighborState = generatePossibleNeighbor(currentState, initialStateCopy)\n",
        "        currentState = bestStateBetween(currentState, neighborState, temperature)\n",
        "        t = t+1\n",
        "        \n",
        "        print(\"\\ncurrent state : \", list(currentState.edges()))\n",
        "\n",
        "    print(\"\\n\\n-------------------END OF ALGORITHM-------------------\\n\")\n",
        "     \n",
        "    try:\n",
        "      print(\"Cycle in solution ? \",nx.find_cycle(currentState))\n",
        "      remainingCycles = True\n",
        "    except nx.exception.NetworkXNoCycle as e:\n",
        "      print(\"Found no cycle \")\n",
        "      remainingCycles = False\n",
        "\n",
        "\n",
        "\n",
        "    # we made an acyclic graph out of the initial graph\n",
        "    # now we must deduce the cycle cutter and display it\n",
        "    cycleCutter = [elem for elem in list(initialStateCopy.nodes()) if elem not in list(currentState.nodes())]\n",
        "\n",
        "    finishTime = time.time()\n",
        "    executionTime = finishTime - startTime\n",
        "\n",
        "    print(\"\\n\\n-------------------CONCLUSION-------------------\\n\\nThe initial graph had\", nbNodes, \"nodes and\", nbNodesInAtLeastOneCycle(initialStateCopy), \"nodes in at least one cycle.\")\n",
        "    print(\"\\nAnd we obtained the following acyclic graph :\\n\\n\" , list(currentState.edges()))\n",
        "    print(\"\\nThus the cycle-cutter is :\", cycleCutter, \", the simulated annealing algorithm removed\", len(cycleCutter), \"nodes, with execution time =\", round(executionTime,2), \"seconds.\")\n",
        "\n",
        "    if (plotResults):\n",
        "        print(\"\\n\\n-------------------INITIAL STATE (Fig 1) VS FINAL STATE (Fig 2)-------------------\")\n",
        "        plot(initialStateCopy)\n",
        "        plot(currentState)\n",
        "\n",
        "    return (len(cycleCutter), executionTime, remainingCycles)"
      ]
    },
    {
      "cell_type": "code",
      "execution_count": null,
      "metadata": {
        "id": "-tTu-jGdxrUC"
      },
      "outputs": [],
      "source": [
        "#Testez l’algorithme de Simulated Annealing dans cette cellule *********************************************************************\n",
        "simulatedAnnealing(70, 0.04, True,1)"
      ]
    },
    {
      "cell_type": "code",
      "execution_count": null,
      "metadata": {
        "id": "QEVeLwVTyWsk"
      },
      "outputs": [],
      "source": [
        "# statistics\n",
        "'''\n",
        "nbOfNodesToConsider = [10,30,70,100]\n",
        "probasErdosRenyiToConsider = [0.02,0.04,0.06,0.08,0.1,0.2,0.3,0.4,0.5]\n",
        "scheduleToConsider = [1,2,3] # 1 for scheduleAlpha, 2 for scheduleLevel, 3 for schedulePower \n",
        "sampleSize = 15\n",
        "\n",
        "for nbNode in nbOfNodesToConsider: \n",
        "  \n",
        "  nodeListDf = []\n",
        "  probaListDf = []\n",
        "  scheduleListDf = []\n",
        "  meanCycleCutterListDf = []\n",
        "  standardDeviationCycleCutterListDf = []\n",
        "  meanExecutionTimeListDf = []\n",
        "  standarDeviationExecutionTimeListDf = []\n",
        "  remainingCyclesCasesListDf = []\n",
        "\n",
        "  for scheduleNb in scheduleToConsider:\n",
        "    for proba in probasErdosRenyiToConsider:\n",
        "\n",
        "        nbNodes = nbNode\n",
        "        probaErdosRenyi = proba\n",
        "        schedule = scheduleNb\n",
        "        # plotResults = True only if trial for one graph, not in a loop for several graphs\n",
        "\n",
        "        resultList = [0] * sampleSize\n",
        "        executionTimeList = [0] * sampleSize\n",
        "        #by construction, can finish with remaining cycles if temperature has reached 0 too soon\n",
        "        nbCasesWhereRemainingCycles = 0\n",
        "        for i in range(sampleSize):\n",
        "          result = simulatedAnnealing(nbNodes,probaErdosRenyi,False,schedule)\n",
        "          resultList[i] = result[0]\n",
        "          executionTimeList[i] = result[1]\n",
        "          if (result[2]):\n",
        "            nbCasesWhereRemainingCycles+=1\n",
        "\n",
        "        averageExecutionTime = round((sum(executionTimeList)/len(executionTimeList)),2)\n",
        "        mean = round(sum(resultList)/len(resultList),2)\n",
        "        standardDeviation = round(math.sqrt(stats.pvariance(resultList)),2)\n",
        "        standardDeviationExecutionTime = round(math.sqrt(stats.pvariance(executionTimeList)),2)\n",
        "        percentageCasesRemainingCycles = round((nbCasesWhereRemainingCycles/sampleSize),4) * 100\n",
        "\n",
        "        print(\"\\n\\n-------------------MEAN & STANDARD DEVIATION-------------------\\n\")\n",
        "        print(\"The initial graph had\", nbNodes, \"nodes and probability of Erdos-Renyi\", probaErdosRenyi,\".\")\n",
        "        print(\"\\nIn average, the cycle-cutter contains :\", mean, \"nodes, with a standard deviation of :\", standardDeviation,\".\")\n",
        "        print(\"\\nIn average, the execution time of the simulated annealing algorithm with the above parameters is :\", averageExecutionTime, \"seconds, with a standard deviation of :\",standardDeviationExecutionTime,\".\")\n",
        "\n",
        "         #completing lists for the dataframe\n",
        "        nodeListDf.append(nbNode)\n",
        "        probaListDf.append(proba)\n",
        "        if (scheduleNb == 1):\n",
        "          scheduleListDf.append(\"alpha\")\n",
        "        elif (scheduleNb == 2):\n",
        "          scheduleListDf.append(\"level\")\n",
        "        elif (scheduleNb == 3):\n",
        "          scheduleListDf.append(\"power\")\n",
        "        meanCycleCutterListDf.append(mean)\n",
        "        standardDeviationCycleCutterListDf.append(standardDeviation)\n",
        "        meanExecutionTimeListDf.append(averageExecutionTime)\n",
        "        standarDeviationExecutionTimeListDf.append(standardDeviationExecutionTime)\n",
        "        remainingCyclesCasesListDf.append(percentageCasesRemainingCycles)\n",
        "\n",
        "  #creating a report for each number of nodes in graph\n",
        "  results = {\"nombre de sommets\" : nodeListDf, \"proba Erdos-Renyi\" : probaListDf, \"temperature schedule (alpha, level ou power)\" : scheduleListDf, \"moyenne taille coupe cycle\" : meanCycleCutterListDf, \"écart-type taille coupe cycle\" : standardDeviationCycleCutterListDf, \"moyenne temps exécution\" : meanExecutionTimeListDf, \"écart-type temps exécution\" : standarDeviationExecutionTimeListDf, \"pourcentage de cas présentant toujours des cycles à la fin de l'algorithme\" : remainingCyclesCasesListDf}\n",
        "  results_df = pd.DataFrame(results)\n",
        "  moncsv = results_df.to_csv(\"results_\" + str(nbNode) +\".csv\", sep=\";\")\n",
        "  files.download(\"results_\" + str(nbNode) +\".csv\") \n",
        "  '''"
      ]
    }
  ],
  "metadata": {
    "colab": {
      "collapsed_sections": [],
      "name": "Projet IA_Simulated_Annealing_BRAHIMI_MERGUI_PIBOUTEAU.ipynb",
      "provenance": []
    },
    "kernelspec": {
      "display_name": "Python 3",
      "name": "python3"
    },
    "language_info": {
      "name": "python"
    }
  },
  "nbformat": 4,
  "nbformat_minor": 0
}