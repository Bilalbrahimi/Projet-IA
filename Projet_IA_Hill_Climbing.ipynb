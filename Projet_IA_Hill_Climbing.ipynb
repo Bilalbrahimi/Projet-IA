{
  "cells": [
    {
      "cell_type": "code",
      "execution_count": 1,
      "metadata": {
        "id": "kB7NRTDeZ5vI"
      },
      "outputs": [],
      "source": [
        "import networkx as nx\n",
        "import matplotlib.pyplot as plt\n",
        "import numpy as np\n",
        "import random\n",
        "import warnings\n",
        "import statistics as stats\n",
        "import time\n",
        "import math\n",
        "import pandas as pd\n",
        "from google.colab import files"
      ]
    },
    {
      "cell_type": "code",
      "execution_count": 2,
      "metadata": {
        "id": "sKSJK687dhc_"
      },
      "outputs": [],
      "source": [
        "def plot(digraph):\n",
        "    \n",
        "    plt.rcParams[\"figure.figsize\"] = [12, 12]\n",
        "    plt.rcParams[\"figure.autolayout\"] = True\n",
        "    \n",
        "    pos = nx.circular_layout(digraph)\n",
        "   \n",
        "    plt.show()\n",
        "    warnings.filterwarnings(\"ignore\")\n",
        "    nx.draw(digraph, pos,with_labels=True,node_color='pink')\n",
        "\n",
        "    "
      ]
    },
    {
      "cell_type": "code",
      "execution_count": 3,
      "metadata": {
        "id": "FcZSiaTEdmM-"
      },
      "outputs": [],
      "source": [
        "#classic hill climbing : returns the best possible neighbor\n",
        "def generateBestNeighborClassicHillClimbing(state, initialStateCopy):\n",
        "    bestState = state\n",
        "    stateNodes = list(state.nodes())\n",
        "    random.shuffle(stateNodes) \n",
        "    \n",
        "    for node in stateNodes:\n",
        "        \n",
        "        stateCopyForRemoving = state.copy()\n",
        "        stateCopyForAdding = state.copy()\n",
        "       \n",
        "        #removing a node and testing the value of the resulting graph\n",
        "        if (nbNodesInAtLeastOneCycle(state) > 0):\n",
        "            stateCopyForRemoving.remove_node(node)\n",
        "            bestState = bestStateBetween(bestState, stateCopyForRemoving)\n",
        "        \n",
        "        #adding a node and testing the value of the resulting graph\n",
        "        if (initialStateCopy.number_of_nodes() > state.number_of_nodes()):\n",
        "            initialNodes = list(initialStateCopy.nodes())\n",
        "            initialEdges = list(initialStateCopy.edges())\n",
        "            nodeToAdd = random.choice([elem for elem in initialNodes if elem not in stateNodes])\n",
        "            edgesToAdd = [elem for elem in initialEdges if (elem[0] == nodeToAdd and elem[1] in stateNodes) or (elem[1] == nodeToAdd and elem[0] in stateNodes)]\n",
        "            stateCopyForAdding.add_edges_from(edgesToAdd)\n",
        "            bestState = bestStateBetween(bestState, stateCopyForAdding)\n",
        "   \n",
        "    return bestState"
      ]
    },
    {
      "cell_type": "code",
      "execution_count": 4,
      "metadata": {
        "id": "8NAFzzFUdoFl"
      },
      "outputs": [],
      "source": [
        "#first-choice hill climbing : returns the first better neighbor\n",
        "def generateBestNeighborFirstChoiceHillClimbing(state, initialStateCopy):\n",
        "    stateNodes = list(state.nodes())\n",
        "    random.shuffle(stateNodes)\n",
        "   \n",
        "    for node in stateNodes:\n",
        "        \n",
        "        stateCopyForRemoving = state.copy()\n",
        "        stateCopyForAdding = state.copy()\n",
        "       \n",
        "        #removing a node and testing the value of the resulting graph\n",
        "        if (nbNodesInAtLeastOneCycle(state) > 0):\n",
        "            stateCopyForRemoving.remove_node(node)\n",
        "            betterState = bestStateBetween(state, stateCopyForRemoving)\n",
        "            if (betterState != state):\n",
        "                print(\"\\nnode removed :\", node)\n",
        "                return betterState\n",
        "        \n",
        "        #adding a node and testing the value of the resulting graph\n",
        "        if (initialStateCopy.number_of_nodes() > state.number_of_nodes()):\n",
        "            initialNodes = list(initialStateCopy.nodes())\n",
        "            initialEdges = list(initialStateCopy.edges())\n",
        "            nodeToAdd = random.choice([elem for elem in initialNodes if elem not in stateNodes])\n",
        "            edgesToAdd = [elem for elem in initialEdges if (elem[0] == nodeToAdd and elem[1] in stateNodes) or (elem[1] == nodeToAdd and elem[0] in stateNodes)]\n",
        "            stateCopyForAdding.add_edges_from(edgesToAdd)\n",
        "            betterState = bestStateBetween(state, stateCopyForAdding)\n",
        "            if (betterState != state):\n",
        "                print(\"\\nnode added :\", nodeToAdd)\n",
        "                return betterState\n",
        "    \n",
        "    return state"
      ]
    },
    {
      "cell_type": "code",
      "execution_count": 5,
      "metadata": {
        "id": "CFGH5klVUecN"
      },
      "outputs": [],
      "source": [
        "#returns if a path exists between u and v\n",
        "def existPath(matriceAdj, u, v):\n",
        "   \n",
        "    n = len(matriceAdj) # number of nodes\n",
        "    file = []\n",
        "    visites = [False] * n\n",
        "    file.append(u)\n",
        "    while file:\n",
        "        courant = file.pop(0)\n",
        "        visites[courant] = True\n",
        "        \n",
        "        for i in range(n):\n",
        "            if matriceAdj[courant,i] > 0 and visites[i] == False:\n",
        "                file.append(i)\n",
        "                visites[i] = True\n",
        "            elif matriceAdj[courant,i] > 0 and i == v:\n",
        "                return True \n",
        "    return False"
      ]
    },
    {
      "cell_type": "code",
      "execution_count": 6,
      "metadata": {
        "id": "HTRYIqqQeDBz"
      },
      "outputs": [],
      "source": [
        "#returns the number of nodes in at least one cycle in the given state\n",
        "def nbNodesInAtLeastOneCycle(state):\n",
        "    count = 0\n",
        "    adjacencyMatrix=nx.adjacency_matrix(state)\n",
        "    adjacencyMatrix=adjacencyMatrix.todense()\n",
        "    \n",
        "   #using existPath\n",
        "    for node in range(0,len(adjacencyMatrix)):\n",
        "      if existPath(adjacencyMatrix, node, node):\n",
        "        count+=1\n",
        "    return count"
      ]
    },
    {
      "cell_type": "code",
      "execution_count": 7,
      "metadata": {
        "id": "4yNrxZEAeTAk"
      },
      "outputs": [],
      "source": [
        "#returns the best state between current state and the neighbor state\n",
        "def bestStateBetween(currentState, neighborState):\n",
        "    nbNodesInAtLeastOneCycleCurrentState = nbNodesInAtLeastOneCycle(currentState)\n",
        "    nbNodesInAtLeastOneCycleNeighbor = nbNodesInAtLeastOneCycle(neighborState) \n",
        "    \n",
        "   \n",
        "    if (nbNodesInAtLeastOneCycleNeighbor < nbNodesInAtLeastOneCycleCurrentState):\n",
        "        return neighborState\n",
        "    elif (nbNodesInAtLeastOneCycleNeighbor == nbNodesInAtLeastOneCycleCurrentState and neighborState.number_of_nodes() > currentState.number_of_nodes()):\n",
        "        return neighborState\n",
        "    return currentState"
      ]
    },
    {
      "cell_type": "code",
      "execution_count": 8,
      "metadata": {
        "id": "M6qqJa8ueUz2"
      },
      "outputs": [],
      "source": [
        "def hillClimbing(nbNodes, probaErdosRenyi, plotResults, method=2):\n",
        "    startTime = time.time()\n",
        "\n",
        "    nbNodes = nbNodes\n",
        "    probaErdosRenyi = probaErdosRenyi\n",
        "    initialState = nx.generators.random_graphs.erdos_renyi_graph(nbNodes,probaErdosRenyi, directed= True)\n",
        "    initialStateCopy = initialState.copy()\n",
        "\n",
        "\n",
        "    print(\"\\n\\n\\nWe start with this initial graph : \" , list(initialStateCopy.edges()))\n",
        "\n",
        "\n",
        "    # hill climbing algorithm\n",
        "    currentState = initialState\n",
        "    while (1):\n",
        "        if(method == 1):\n",
        "           neighborState = generateBestNeighborClassicHillClimbing(currentState, initialStateCopy)\n",
        "        elif(method == 2):\n",
        "           neighborState = generateBestNeighborFirstChoiceHillClimbing(currentState, initialStateCopy)\n",
        "        bestState = bestStateBetween(currentState, neighborState)\n",
        "        if (bestState == currentState):\n",
        "            break;\n",
        "        currentState = neighborState\n",
        "        print(\"\\ncurrent state : \",list(currentState.edges()))\n",
        "      \n",
        "    print(\"\\n\\n-------------------END OF ALGORITHM-------------------\\n\")\n",
        "    try:\n",
        "      print(\"Cycle in solution ? \",nx.find_cycle(currentState))\n",
        "    except nx.exception.NetworkXNoCycle as e:\n",
        "      print(\"Found no cycle \")\n",
        "\n",
        "    # we made an acyclic graph out of the initial graph\n",
        "    # now we must deduce the cycle cutter and display it\n",
        "    cycleCutter = [elem for elem in list(initialStateCopy.nodes()) if elem not in list(currentState.nodes())]\n",
        "\n",
        "    finishTime = time.time()\n",
        "    executionTime = finishTime - startTime\n",
        "\n",
        "    print(\"\\n\\n-------------------CONCLUSION-------------------\\n\\nThe initial graph had\", nbNodes, \"nodes and\", nbNodesInAtLeastOneCycle(initialStateCopy), \"nodes in at least one cycle.\")\n",
        "    print(\"\\nAnd we obtained the following acyclic graph :\\n\\n\" , list(currentState.edges()))\n",
        "    print(\"\\nThus the cycle-cutter is :\", cycleCutter, \", the hill-climbing algorithm removed\", len(cycleCutter), \"nodes, with execution time =\", round(executionTime,2), \"seconds.\")\n",
        "\n",
        "    if (plotResults):\n",
        "      print(\"\\n\\n-------------------INITIAL STATE (Fig 1) VS FINAL STATE (Fig 2)-------------------\\n\")\n",
        "      plot(initialStateCopy)\n",
        "      plot(bestState)\n",
        "\n",
        "    return (len(cycleCutter),executionTime)"
      ]
    },
    {
      "cell_type": "code",
      "execution_count": null,
      "metadata": {
        "id": "ONbl8TCbSsrU"
      },
      "outputs": [],
      "source": [
        "#Testez l’algorithme de Hill Climbing dans cette cellule ***************************************************************************\n",
        "hillClimbing(50,0.08,True, 2)"
      ]
    },
    {
      "cell_type": "code",
      "execution_count": null,
      "metadata": {
        "id": "E8_DpjnJZbwO"
      },
      "outputs": [],
      "source": [
        "# statistics\n",
        "'''\n",
        "nbOfNodesToConsider = [10,30,70,100]\n",
        "probasErdosRenyiToConsider = [0.02,0.04,0.06,0.08,0.1,0.2,0.3,0.4,0.5]\n",
        "methodsToConsider = [1,2]\n",
        "sampleSize = 15\n",
        "\n",
        "for nbNode in nbOfNodesToConsider: \n",
        "  \n",
        "  nodeListDf = []\n",
        "  probaListDf = []\n",
        "  methodListDf = []\n",
        "  meanCycleCutterListDf = []\n",
        "  standardDeviationCycleCutterListDf = []\n",
        "  meanExecutionTimeListDf = []\n",
        "  standarDeviationExecutionTimeListDf = []\n",
        "\n",
        "  for methodNb in methodsToConsider:\n",
        "    for proba in probasErdosRenyiToConsider:\n",
        "        nbNodes = nbNode\n",
        "        probaErdosRenyi = proba\n",
        "        method = methodNb # method : 1 for classic, 2 for first-choice\n",
        "        # plotResults = True only if trial for one graph, not in a loop for several graphs\n",
        "\n",
        "        resultList = [0] * sampleSize\n",
        "        executionTimeList = [0] * sampleSize\n",
        "        #generating 50 graphs with these parameters\n",
        "        for i in range(sampleSize):\n",
        "          result = hillClimbing(nbNodes,probaErdosRenyi,False, method)\n",
        "          resultList[i] = result[0]\n",
        "          executionTimeList[i] = result[1]\n",
        "\n",
        "        averageExecutionTime = round((sum(executionTimeList)/len(executionTimeList)),2)\n",
        "        mean = round(sum(resultList)/len(resultList),2)\n",
        "        standardDeviation = round(math.sqrt(stats.pvariance(resultList)),2)\n",
        "        standardDeviationExecutionTime = round(math.sqrt(stats.pvariance(executionTimeList)),2)\n",
        "\n",
        "        print(\"\\n\\n-------------------MEAN & STANDARD DEVIATION-------------------\\n\")\n",
        "        print(\"The initial graph had\", nbNodes, \"nodes and probability of Erdos-Renyi\", probaErdosRenyi,\".\")\n",
        "        print(\"\\nIn average, the cycle-cutter contains :\", mean, \"nodes, with a standard deviation of :\", standardDeviation,\".\")\n",
        "        print(\"\\nIn average, the execution time of the hill climbing algorithm with the above parameters is :\", averageExecutionTime, \"seconds, with a standard deviation of :\",standardDeviationExecutionTime,\".\")\n",
        "\n",
        "        #completing lists for the dataframe\n",
        "        nodeListDf.append(nbNode)\n",
        "        probaListDf.append(proba)\n",
        "        if (methodNb == 1):\n",
        "          methodListDf.append(\"classique\")\n",
        "        if (methodNb == 2):\n",
        "          methodListDf.append(\"first choice\")\n",
        "        meanCycleCutterListDf.append(mean)\n",
        "        standardDeviationCycleCutterListDf.append(standardDeviation)\n",
        "        meanExecutionTimeListDf.append(averageExecutionTime)\n",
        "        standarDeviationExecutionTimeListDf.append(standardDeviationExecutionTime)\n",
        "\n",
        "  #creating a report for each number of nodes in graph\n",
        "  results = {\"nombre de sommets\" : nodeListDf, \"proba Erdos-Renyi\" : probaListDf, \"méthode (classique ou first choice)\" : methodListDf, \"moyenne taille coupe cycle\" : meanCycleCutterListDf, \"écart-type taille coupe cycle\" : standardDeviationCycleCutterListDf, \"moyenne temps exécution\" : meanExecutionTimeListDf, \"écart-type temps exécution\" : standarDeviationExecutionTimeListDf,}\n",
        "  results_df = pd.DataFrame(results)\n",
        "  moncsv = results_df.to_csv(\"results_\" + str(nbNode) +\".csv\", sep=\";\")\n",
        "  files.download(\"results_\" + str(nbNode) +\".csv\") \n",
        "\n",
        "  '''"
      ]
    }
  ],
  "metadata": {
    "colab": {
      "collapsed_sections": [],
      "name": "Projet IA_Hill_Climbing_BRAHIMI_MERGUI_PIBOUTEAU.ipynb",
      "provenance": []
    },
    "kernelspec": {
      "display_name": "Python 3",
      "name": "python3"
    },
    "language_info": {
      "name": "python"
    }
  },
  "nbformat": 4,
  "nbformat_minor": 0
}